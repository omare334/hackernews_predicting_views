{
 "cells": [
  {
   "cell_type": "code",
   "execution_count": 1,
   "metadata": {},
   "outputs": [],
   "source": [
    "import torch\n",
    "import pandas as pd\n",
    "import pickle\n",
    "import numpy as np\n",
    "device = torch.device(\"cuda\" if torch.cuda.is_available() else \"cpu\")\n",
    "\n",
    "class SkipGramFoo(torch.nn.Module):\n",
    "  def __init__(self, voc, emb, ctx):\n",
    "    super().__init__()\n",
    "    self.ctx = ctx\n",
    "    self.emb = torch.nn.Embedding(num_embeddings=voc, embedding_dim=emb)\n",
    "    self.ffw = torch.nn.Linear(in_features=emb, out_features=voc, bias=False)\n",
    "    self.sig = torch.nn.Sigmoid()\n",
    "\n",
    "  # def forward(self, inpt, trgs, rand):\n",
    "  #   emb = self.emb(inpt)\n",
    "  #   ctx = self.ffw.weight[trgs]\n",
    "  #   rnd = self.ffw.weight[rand]\n",
    "  #   out = torch.mm(ctx, emb.T)\n",
    "  #   rnd = torch.mm(rnd, emb.T)\n",
    "  #   out = self.sig(out).clamp(min=1e-7, max=1 - 1e-7)\n",
    "  #   rnd = self.sig(rnd).clamp(min=1e-7, max=1 - 1e-7)\n",
    "  #   pst = -out.log().mean()\n",
    "  #   ngt = -(1 - rnd).log().mean()\n",
    "  #   return pst + ngt\n",
    "\n",
    "#new forwarding for batch size \n",
    "  def forward(self, inpt, trgs, rand):\n",
    "    # Embedding lookup for input (shape: [batch_size, embedding_dim])\n",
    "    emb = self.emb(inpt)\n",
    "    \n",
    "    # Ensure context (trgs) and random samples (rand) have the same batch size as inpt\n",
    "    batch_size = inpt.size(0)  # Get the current batch size\n",
    "\n",
    "    # Slice or generate the random tensor according to the input batch size\n",
    "    rand = rand[:batch_size]  # Adjust random tensor to match current batch size\n",
    "    \n",
    "    ctx = self.ffw.weight[trgs.to(inpt.device)]  # Shape: [batch_size, 2, embedding_dim]\n",
    "    rnd = self.ffw.weight[rand.to(inpt.device)]  # Shape: [batch_size, 2, embedding_dim]\n",
    "\n",
    "    # Ensure the batch size matches before performing batch matrix multiplication\n",
    "    assert ctx.size(0) == emb.size(0), f\"Context batch size {ctx.size(0)} doesn't match embeddings batch size {emb.size(0)}\"\n",
    "    assert rnd.size(0) == emb.size(0), f\"Random batch size {rnd.size(0)} doesn't match embeddings batch size {emb.size(0)}\"\n",
    "    \n",
    "    # Perform batch matrix multiplication\n",
    "    out = torch.bmm(ctx, emb.unsqueeze(2)).squeeze(2)  # Shape: (batch_size, 2)\n",
    "    rnd = torch.bmm(rnd, emb.unsqueeze(2)).squeeze(2)  # Shape: (batch_size, 2)\n",
    "    \n",
    "    # Apply sigmoid and clamp to prevent NaNs\n",
    "    out = self.sig(out).clamp(min=1e-7, max=1 - 1e-7)\n",
    "    rnd = self.sig(rnd).clamp(min=1e-7, max=1 - 1e-7)\n",
    "\n",
    "    # Calculate loss\n",
    "    pst = -out.log().mean()   # Positive sample log-likelihood\n",
    "    ngt = -(1 - rnd).log().mean()  # Negative sample log-likelihood\n",
    "    \n",
    "    return pst + ngt"
   ]
  },
  {
   "cell_type": "code",
   "execution_count": 10,
   "metadata": {},
   "outputs": [],
   "source": [
    "if mFoo.emb is None:\n",
    "    raise ValueError(\"Embedding layer is not initialized.\")\n"
   ]
  },
  {
   "cell_type": "code",
   "execution_count": 2,
   "metadata": {},
   "outputs": [
    {
     "name": "stderr",
     "output_type": "stream",
     "text": [
      "C:\\Users\\omare\\AppData\\Local\\Temp\\ipykernel_23060\\2447115968.py:39: FutureWarning: You are using `torch.load` with `weights_only=False` (the current default value), which uses the default pickle module implicitly. It is possible to construct malicious pickle data which will execute arbitrary code during unpickling (See https://github.com/pytorch/pytorch/blob/main/SECURITY.md#untrusted-models for more details). In a future release, the default value for `weights_only` will be flipped to `True`. This limits the functions that could be executed during unpickling. Arbitrary objects will no longer be allowed to be loaded via this mode unless they are explicitly allowlisted by the user via `torch.serialization.add_safe_globals`. We recommend you start setting `weights_only=True` for any use case where you don't have full control of the loaded file. Please open an issue on GitHub for any issues related to this experimental feature.\n",
      "  mFoo.load_state_dict(torch.load(model_path))\n"
     ]
    }
   ],
   "source": [
    "\n",
    "with open('vocab_dict.pkl', 'rb') as fp:\n",
    "    updated_vocab = pickle.load(fp) \n",
    "# Step 1: Load the dataframe\n",
    "valid_titles_df = pd.read_csv('valid_titles')  # Assuming the file is valid_titles.csv\n",
    "titles = valid_titles_df['valid_titles'].tolist()\n",
    "\n",
    "def create_reverse_vocab(vocab):\n",
    "    return {word: index for index, word in vocab.items()}\n",
    "\n",
    "# Load the reverse vocabulary\n",
    "reverse_vocab = create_reverse_vocab(updated_vocab)\n",
    "\n",
    "# Tokenize the titles using the reverse vocabulary\n",
    "def tokenize_titles(titles, reverse_vocab):\n",
    "    tokens = []\n",
    "    \n",
    "    for title in titles:\n",
    "        words = title.lower().split()  # Convert the title to lowercase to match training preprocessing\n",
    "        \n",
    "        tokenized = []\n",
    "        for word in words:\n",
    "            if word in reverse_vocab:\n",
    "                tokenized.append(reverse_vocab[word])  # Get the index from reverse_vocab\n",
    "            # No else clause needed; unknown words are simply skipped\n",
    "        \n",
    "        tokens.append(tokenized)\n",
    "    \n",
    "    return tokens\n",
    "\n",
    "# Now we use the updated_vocab to tokenize the titles\n",
    "tokenized_titles = tokenize_titles(titles, updated_vocab)\n",
    "\n",
    "# Step 3: Load the trained SkipGram model\n",
    "model_path = \"skipgram_model_titles.pth\"\n",
    "embedding_dim = 64  # Set to the same dimension used when training\n",
    "mFoo = SkipGramFoo(len(updated_vocab), embedding_dim, 2).to(device)\n",
    "\n",
    "# Load the saved model weights\n",
    "mFoo.load_state_dict(torch.load(model_path))\n",
    "mFoo.eval()  # Set the model to evaluation mode\n",
    "\n",
    "# Step 4: Generate embeddings for each title\n",
    "def get_embeddings_for_titles(tokenized_titles, model):\n",
    "    embeddings_list = []\n",
    "    \n",
    "    with torch.no_grad():  # Disable gradient calculations for faster performance\n",
    "        for tokens in tokenized_titles:\n",
    "            if len(tokens) > 0:\n",
    "                # Get the embeddings for each token in the title\n",
    "                token_embeddings = model.emb(torch.LongTensor(tokens).to(device))  # Shape: [num_tokens, embedding_dim]\n",
    "                \n",
    "                # Average the token embeddings to get a single vector for the entire title\n",
    "                title_embedding = token_embeddings.mean(dim=0)  # Shape: [embedding_dim]\n",
    "                \n",
    "                embeddings_list.append(title_embedding.cpu().numpy())  # Store the embedding as a NumPy array\n",
    "            else:\n",
    "                # Handle empty titles (if any)\n",
    "                embeddings_list.append(torch.zeros(embedding_dim).cpu().numpy())  # Zero vector for empty titles\n",
    "    \n",
    "    return embeddings_list\n",
    "\n",
    "# Generate embeddings for all the tokenized titles\n",
    "embeddings = get_embeddings_for_titles(tokenized_titles, mFoo)\n",
    "\n",
    "# Step 5: Store the embeddings\n",
    "# Convert to a DataFrame for easier saving/processing later\n",
    "embeddings_df = pd.DataFrame(embeddings)\n",
    "\n",
    "# Save the embeddings to a file (optional)\n",
    "embeddings_df.to_csv('title_embeddings.csv', index=False)\n"
   ]
  },
  {
   "cell_type": "code",
   "execution_count": 7,
   "metadata": {},
   "outputs": [
    {
     "name": "stdout",
     "output_type": "stream",
     "text": [
      "Embedding for 'what': [[ 0.53904825 -0.45077062  1.4559338   0.13282725 -1.4666095   0.600831\n",
      "  -0.09292229 -0.45610356 -0.38778973  0.4669452   0.6054679  -0.00225993\n",
      "   0.5174597  -0.08059167 -0.46716592  0.9765417   0.8536807   0.35481888\n",
      "  -0.63732105 -0.13640785  0.6628664  -0.5107819   0.5339597  -0.8386088\n",
      "   0.06673457 -0.4010571   0.4694922   0.4846136   0.01229444  0.14240593\n",
      "  -1.295902    0.68323016 -0.26068974 -0.54550636  0.19723426 -0.249697\n",
      "   0.14181955  0.3301068  -0.26048836  0.8786628   0.30607483 -0.16925645\n",
      "  -0.15107532 -0.5087055  -0.14961873  0.33641902  0.37141562 -0.19956443\n",
      "  -0.14257891  0.26776838 -0.494943    0.37996596 -0.6322342  -0.03149585\n",
      "   0.87563944 -0.11046636 -0.42262375 -0.03439222  0.47216845 -0.7887422\n",
      "   0.40171587  1.631742    0.20804039  0.87084013]]\n"
     ]
    }
   ],
   "source": [
    "# Function to get the embedding of a specific word\n",
    "def get_word_embedding(word, vocab, model):\n",
    "    # Check if the word is in the vocabulary\n",
    "    if word in reverse_vocab:\n",
    "        index = reverse_vocab[word]  # Get the index of the word\n",
    "        embedding = model.emb(torch.LongTensor([index]).to(device))  # Get the embedding for the word\n",
    "        return embedding.detach().cpu().numpy()  # Detach and convert to NumPy array\n",
    "    else:\n",
    "        print(f\"'{word}' not found in the vocabulary.\")\n",
    "        return None\n",
    "\n",
    "# Example usage\n",
    "word_to_inspect = \"what\"  # Replace with the word you want to inspect\n",
    "embedding_vector = get_word_embedding(word_to_inspect, updated_vocab, mFoo)\n",
    "\n",
    "if embedding_vector is not None:\n",
    "    print(f\"Embedding for '{word_to_inspect}': {embedding_vector}\")\n",
    "\n"
   ]
  },
  {
   "cell_type": "code",
   "execution_count": 15,
   "metadata": {},
   "outputs": [
    {
     "data": {
      "image/png": "[encoded data removed]",
      "text/plain": [
       "<Figure size 1000x600 with 1 Axes>"
      ]
     },
     "metadata": {},
     "output_type": "display_data"
    }
   ],
   "source": [
    "import torch\n",
    "import pandas as pd\n",
    "import matplotlib.pyplot as plt\n",
    "from sklearn.decomposition import PCA\n",
    "from sklearn.manifold import TSNE\n",
    "\n",
    "# Function to get embeddings for multiple words\n",
    "def get_word_embeddings(words, vocab, model):\n",
    "    embeddings = []\n",
    "    for word in words:\n",
    "        if word in reverse_vocab:\n",
    "            index = reverse_vocab[word]\n",
    "            embedding = model.emb(torch.LongTensor([index]).to(device)).detach().cpu().numpy()\n",
    "            embeddings.append(embedding[0])  # Get the first (and only) element of the array\n",
    "        else:\n",
    "            print(f\"'{word}' not found in the vocabulary.\")\n",
    "            embeddings.append(None)  # Placeholder for unknown words\n",
    "    return embeddings\n",
    "\n",
    "# Words to visualize\n",
    "words_to_visualize = [\"house\", \"home\", \"plane\", \"car\", \"nba\", \"nfl\",\"football\",\"vehicle\",\"abode\"]  # Replace with your words\n",
    "\n",
    "# Get embeddings for the selected words\n",
    "embeddings = get_word_embeddings(words_to_visualize, updated_vocab, mFoo)\n",
    "\n",
    "# Remove None values from embeddings\n",
    "embeddings = [emb for emb in embeddings if emb is not None]\n",
    "\n",
    "# Step 2: Reduce dimensionality using PCA or t-SNE\n",
    "# Here, we're using PCA for simplicity, but you can also use t-SNE for better visualization\n",
    "pca = PCA(n_components=2)\n",
    "embeddings_2d = pca.fit_transform(embeddings)\n",
    "\n",
    "# Step 3: Create a scatter plot\n",
    "plt.figure(figsize=(10, 6))\n",
    "plt.scatter(embeddings_2d[:, 0], embeddings_2d[:, 1])\n",
    "\n",
    "# Annotate points with corresponding words\n",
    "for i, word in enumerate(words_to_visualize):\n",
    "    if embeddings[i] is not None:\n",
    "        plt.annotate(word, (embeddings_2d[i, 0], embeddings_2d[i, 1]), fontsize=12)\n",
    "\n",
    "plt.title('Word Embeddings Visualization')\n",
    "plt.xlabel('PCA Component 1')\n",
    "plt.ylabel('PCA Component 2')\n",
    "plt.grid()\n",
    "plt.show()\n"
   ]
  },
  {
   "cell_type": "markdown",
   "metadata": {},
   "source": [
    "# Running model based on loaded in embeddings\n"
   ]
  },
  {
   "cell_type": "code",
   "execution_count": 16,
   "metadata": {},
   "outputs": [
    {
     "data": {
      "text/plain": [
       "(1227453, 64)"
      ]
     },
     "execution_count": 16,
     "metadata": {},
     "output_type": "execute_result"
    }
   ],
   "source": [
    "embeddings_df.shape\n"
   ]
  },
  {
   "cell_type": "code",
   "execution_count": 18,
   "metadata": {},
   "outputs": [
    {
     "data": {
      "text/plain": [
       "(1227453, 2)"
      ]
     },
     "execution_count": 18,
     "metadata": {},
     "output_type": "execute_result"
    }
   ],
   "source": [
    "valid_titles_df.shape"
   ]
  },
  {
   "cell_type": "markdown",
   "metadata": {},
   "source": [
    "## data loader "
   ]
  },
  {
   "cell_type": "code",
   "execution_count": 26,
   "metadata": {},
   "outputs": [],
   "source": [
    "import numpy as np\n",
    "import torch\n",
    "from torch.utils.data import Dataset, DataLoader\n",
    "class Task_Dataset(Dataset):\n",
    "    def __init__(self, embeddings_df: pd.DataFrame, y: np.ndarray):\n",
    "        # Convert embeddings_df to tensor\n",
    "        self.X = torch.tensor(embeddings_df.values).float()  # Convert DataFrame to tensor\n",
    "        self.y = torch.from_numpy(y).float()  # Target labels, converted to tensor\n",
    "        assert self.X.shape[0] == self.y.shape[0], \"Embeddings and targets must have the same number of samples\"\n",
    "\n",
    "    def __len__(self):\n",
    "        return self.X.shape[0]  # Return the number of samples\n",
    "\n",
    "    def __getitem__(self, idx):\n",
    "        return self.X[idx], self.y[idx]  # Return the embedding and the corresponding target\n",
    "\n",
    "y_train = np.random.randint(1, 501, size=embeddings_df.shape[0])\n",
    "# Create dataset\n",
    "task_ds = Task_Dataset(embeddings_df, y_train)\n",
    "\n",
    "# Create dataloader\n",
    "task_dl = DataLoader(task_ds, batch_size=512, shuffle=True)\n"
   ]
  },
  {
   "cell_type": "markdown",
   "metadata": {},
   "source": [
    "## model\n"
   ]
  },
  {
   "cell_type": "code",
   "execution_count": 27,
   "metadata": {},
   "outputs": [],
   "source": [
    "import torch\n",
    "import torch.nn as nn\n",
    "\n",
    "class SingleTask_Network(nn.Module):\n",
    "    def __init__(self, input_dim: int, output_dim: int = 1, hidden_dim: int = 300):\n",
    "        super(SingleTask_Network, self).__init__()\n",
    "        \n",
    "        self.input_dim = input_dim\n",
    "        self.output_dim = output_dim\n",
    "        self.hidden_dim = hidden_dim\n",
    "        \n",
    "        # Define the layers\n",
    "        self.hidden = nn.Linear(self.input_dim, self.hidden_dim)\n",
    "        self.final = nn.Linear(self.hidden_dim, self.output_dim)\n",
    "\n",
    "    def forward(self, x: torch.Tensor):\n",
    "        # Pass through hidden layer with ReLU activation\n",
    "        x = self.hidden(x)\n",
    "        x = torch.relu(x)  # Use ReLU instead of sigmoid for non-linearity\n",
    "        # Final output layer (no activation for regression)\n",
    "        x = self.final(x)\n",
    "        return x\n"
   ]
  },
  {
   "cell_type": "code",
   "execution_count": 28,
   "metadata": {},
   "outputs": [],
   "source": [
    "import torch\n",
    "import torch.nn as nn\n",
    "\n",
    "# Initialize the model\n",
    "model = SingleTask_Network(input_dim=task_ds.X.shape[1], output_dim=1)  # Using task_ds.X for input dimension\n",
    "\n",
    "# Optimizer\n",
    "optimizer = torch.optim.Adam(model.parameters(), lr=1e-3)\n",
    "\n",
    "# Loss function: Use MSELoss for regression\n",
    "loss_fn = nn.MSELoss()"
   ]
  },
  {
   "cell_type": "code",
   "execution_count": 30,
   "metadata": {},
   "outputs": [
    {
     "data": {
      "text/html": [
       "Tracking run with wandb version 0.18.3"
      ],
      "text/plain": [
       "<IPython.core.display.HTML object>"
      ]
     },
     "metadata": {},
     "output_type": "display_data"
    },
    {
     "data": {
      "text/html": [
       "Run data is saved locally in <code>c:\\Users\\omare\\Desktop\\hackernews_predicting_views\\data processing\\wandb\\run-20241018_074311-r76lkhbu</code>"
      ],
      "text/plain": [
       "<IPython.core.display.HTML object>"
      ]
     },
     "metadata": {},
     "output_type": "display_data"
    },
    {
     "data": {
      "text/html": [
       "Syncing run <strong><a href='https://wandb.ai/omareweis123/singletask_training/runs/r76lkhbu' target=\"_blank\">batch_size(512)</a></strong> to <a href='https://wandb.ai/omareweis123/singletask_training' target=\"_blank\">Weights & Biases</a> (<a href='https://wandb.me/run' target=\"_blank\">docs</a>)<br/>"
      ],
      "text/plain": [
       "<IPython.core.display.HTML object>"
      ]
     },
     "metadata": {},
     "output_type": "display_data"
    },
    {
     "data": {
      "text/html": [
       " View project at <a href='https://wandb.ai/omareweis123/singletask_training' target=\"_blank\">https://wandb.ai/omareweis123/singletask_training</a>"
      ],
      "text/plain": [
       "<IPython.core.display.HTML object>"
      ]
     },
     "metadata": {},
     "output_type": "display_data"
    },
    {
     "data": {
      "text/html": [
       " View run at <a href='https://wandb.ai/omareweis123/singletask_training/runs/r76lkhbu' target=\"_blank\">https://wandb.ai/omareweis123/singletask_training/runs/r76lkhbu</a>"
      ],
      "text/plain": [
       "<IPython.core.display.HTML object>"
      ]
     },
     "metadata": {},
     "output_type": "display_data"
    },
    {
     "name": "stderr",
     "output_type": "stream",
     "text": [
      "Epoch 1/10:   0%|          | 0/2398 [00:00<?, ?it/s]c:\\Users\\omare\\anaconda3\\envs\\.conda\\Lib\\site-packages\\torch\\nn\\modules\\loss.py:538: UserWarning: Using a target size (torch.Size([512])) that is different to the input size (torch.Size([512, 1])). This will likely lead to incorrect results due to broadcasting. Please ensure they have the same size.\n",
      "  return F.mse_loss(input, target, reduction=self.reduction)\n",
      "Epoch 1/10: 100%|█████████▉| 2396/2398 [00:15<00:00, 163.36it/s, loss=2.1e+4] c:\\Users\\omare\\anaconda3\\envs\\.conda\\Lib\\site-packages\\torch\\nn\\modules\\loss.py:538: UserWarning: Using a target size (torch.Size([189])) that is different to the input size (torch.Size([189, 1])). This will likely lead to incorrect results due to broadcasting. Please ensure they have the same size.\n",
      "  return F.mse_loss(input, target, reduction=self.reduction)\n",
      "                                                                             \r"
     ]
    },
    {
     "name": "stdout",
     "output_type": "stream",
     "text": [
      "Epoch [1/10], Final Loss: 20845.9476\n"
     ]
    },
    {
     "name": "stderr",
     "output_type": "stream",
     "text": [
      "                                                                              \r"
     ]
    },
    {
     "name": "stdout",
     "output_type": "stream",
     "text": [
      "Epoch [2/10], Final Loss: 20846.9066\n"
     ]
    },
    {
     "name": "stderr",
     "output_type": "stream",
     "text": [
      "                                                                              \r"
     ]
    },
    {
     "name": "stdout",
     "output_type": "stream",
     "text": [
      "Epoch [3/10], Final Loss: 20846.6330\n"
     ]
    },
    {
     "name": "stderr",
     "output_type": "stream",
     "text": [
      "                                                                              \r"
     ]
    },
    {
     "name": "stdout",
     "output_type": "stream",
     "text": [
      "Epoch [4/10], Final Loss: 20846.3901\n"
     ]
    },
    {
     "name": "stderr",
     "output_type": "stream",
     "text": [
      "                                                                              \r"
     ]
    },
    {
     "name": "stdout",
     "output_type": "stream",
     "text": [
      "Epoch [5/10], Final Loss: 20846.5771\n"
     ]
    },
    {
     "name": "stderr",
     "output_type": "stream",
     "text": [
      "                                                                              \r"
     ]
    },
    {
     "name": "stdout",
     "output_type": "stream",
     "text": [
      "Epoch [6/10], Final Loss: 20846.1554\n"
     ]
    },
    {
     "name": "stderr",
     "output_type": "stream",
     "text": [
      "                                                                              \r"
     ]
    },
    {
     "name": "stdout",
     "output_type": "stream",
     "text": [
      "Epoch [7/10], Final Loss: 20846.2982\n"
     ]
    },
    {
     "name": "stderr",
     "output_type": "stream",
     "text": [
      "                                                                              \r"
     ]
    },
    {
     "name": "stdout",
     "output_type": "stream",
     "text": [
      "Epoch [8/10], Final Loss: 20846.3652\n"
     ]
    },
    {
     "name": "stderr",
     "output_type": "stream",
     "text": [
      "                                                                              \r"
     ]
    },
    {
     "name": "stdout",
     "output_type": "stream",
     "text": [
      "Epoch [9/10], Final Loss: 20846.9732\n"
     ]
    },
    {
     "name": "stderr",
     "output_type": "stream",
     "text": [
      "                                                                               \r"
     ]
    },
    {
     "name": "stdout",
     "output_type": "stream",
     "text": [
      "Epoch [10/10], Final Loss: 20847.5276\n"
     ]
    },
    {
     "data": {
      "text/html": [
       "<style>\n",
       "    table.wandb td:nth-child(1) { padding: 0 10px; text-align: left ; width: auto;} td:nth-child(2) {text-align: left ; width: 100%}\n",
       "    .wandb-row { display: flex; flex-direction: row; flex-wrap: wrap; justify-content: flex-start; width: 100% }\n",
       "    .wandb-col { display: flex; flex-direction: column; flex-basis: 100%; flex: 1; padding: 10px; }\n",
       "    </style>\n",
       "<div class=\"wandb-row\"><div class=\"wandb-col\"><h3>Run history:</h3><br/><table class=\"wandb\"><tr><td>Average Epoch Loss</td><td>▁▅▄▃▄▂▃▃▆█</td></tr><tr><td>Batch Loss</td><td>▄▅▃▇▄▃▄▄▃▄▆▅█▅▃▃▇▄▄▆▇▅▃▆▆▆▅▁▂▂▄█▅▄▄▄▆▃▄▅</td></tr></table><br/></div><div class=\"wandb-col\"><h3>Run summary:</h3><br/><table class=\"wandb\"><tr><td>Average Epoch Loss</td><td>20847.52759</td></tr><tr><td>Batch Loss</td><td>23953.06445</td></tr></table><br/></div></div>"
      ],
      "text/plain": [
       "<IPython.core.display.HTML object>"
      ]
     },
     "metadata": {},
     "output_type": "display_data"
    },
    {
     "data": {
      "text/html": [
       " View run <strong style=\"color:#cdcd00\">batch_size(512)</strong> at: <a href='https://wandb.ai/omareweis123/singletask_training/runs/r76lkhbu' target=\"_blank\">https://wandb.ai/omareweis123/singletask_training/runs/r76lkhbu</a><br/> View project at: <a href='https://wandb.ai/omareweis123/singletask_training' target=\"_blank\">https://wandb.ai/omareweis123/singletask_training</a><br/>Synced 5 W&B file(s), 0 media file(s), 0 artifact file(s) and 0 other file(s)"
      ],
      "text/plain": [
       "<IPython.core.display.HTML object>"
      ]
     },
     "metadata": {},
     "output_type": "display_data"
    },
    {
     "data": {
      "text/html": [
       "Find logs at: <code>.\\wandb\\run-20241018_074311-r76lkhbu\\logs</code>"
      ],
      "text/plain": [
       "<IPython.core.display.HTML object>"
      ]
     },
     "metadata": {},
     "output_type": "display_data"
    }
   ],
   "source": [
    "import wandb\n",
    "from tqdm import tqdm\n",
    "\n",
    "# Initialize W&B\n",
    "wandb.init(project=\"singletask_training\", entity=\"omareweis123\", name='batch_size(512)') # Replace with your project and entity names\n",
    "\n",
    "# Number of epochs for training\n",
    "num_epochs = 10\n",
    "\n",
    "# Training loop\n",
    "for epoch in range(num_epochs):\n",
    "    epoch_loss = 0.0  # To calculate average loss for the epoch\n",
    "\n",
    "    # Create a tqdm progress bar for the entire epoch\n",
    "    with tqdm(total=len(task_dl), desc=f\"Epoch {epoch + 1}/{num_epochs}\", leave=False) as pbar:\n",
    "        for j, (batch_X, batch_y) in enumerate(task_dl):\n",
    "            # Forward pass\n",
    "            preds = model(batch_X)\n",
    "            \n",
    "            # Compute loss\n",
    "            loss = loss_fn(preds, batch_y)\n",
    "            epoch_loss += loss.item()  # Accumulate loss\n",
    "            \n",
    "            # Backpropagation\n",
    "            optimizer.zero_grad()\n",
    "            loss.backward()\n",
    "            optimizer.step()\n",
    "            \n",
    "            # Update the progress bar with the current loss\n",
    "            pbar.set_postfix(loss=loss.item())\n",
    "            pbar.update(1)  # Increment the progress bar\n",
    "            \n",
    "            # Log the batch loss to W&B\n",
    "            wandb.log({'Batch Loss': loss.item()})\n",
    "\n",
    "    # Calculate average loss for the epoch\n",
    "    avg_loss = epoch_loss / len(task_dl)\n",
    "    \n",
    "    # Log average loss for the epoch to W&B\n",
    "    wandb.log({'Average Epoch Loss': avg_loss})\n",
    "\n",
    "    # Optional: Print the final loss for the epoch\n",
    "    print(f\"Epoch [{epoch + 1}/{num_epochs}], Final Loss: {avg_loss:.4f}\")\n",
    "\n",
    "# Finish W&B logging\n",
    "wandb.finish()\n",
    "\n",
    "\n",
    "\n"
   ]
  }
 ],
 "metadata": {
  "kernelspec": {
   "display_name": ".conda",
   "language": "python",
   "name": "python3"
  },
  "language_info": {
   "codemirror_mode": {
    "name": "ipython",
    "version": 3
   },
   "file_extension": ".py",
   "mimetype": "text/x-python",
   "name": "python",
   "nbconvert_exporter": "python",
   "pygments_lexer": "ipython3",
   "version": "3.12.0"
  }
 },
 "nbformat": 4,
 "nbformat_minor": 2
}
